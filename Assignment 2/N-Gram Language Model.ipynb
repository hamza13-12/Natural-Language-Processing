{
 "cells": [
  {
   "cell_type": "code",
   "execution_count": 21,
   "id": "0727bb77",
   "metadata": {},
   "outputs": [],
   "source": [
    "import re\n",
    "import random"
   ]
  },
  {
   "cell_type": "code",
   "execution_count": 22,
   "id": "40c2cc3c",
   "metadata": {},
   "outputs": [],
   "source": [
    "def tokenize(text):\n",
    "    \"\"\"Tokenize the input text into lowercase words and punctuation.\"\"\"\n",
    "    # \\b represents word boundary\n",
    "    # w+ matches complete words and not just parts of them\n",
    "    # \\b again is word boundary for end of word\n",
    "    return re.findall(r'\\b\\w+\\b|[^\\w\\s]', text.lower())"
   ]
  },
  {
   "cell_type": "code",
   "execution_count": 23,
   "id": "011a8211",
   "metadata": {},
   "outputs": [],
   "source": [
    "def create_n_gram_model(tokens, n):\n",
    "    \"\"\"Create N-gram models for 1 through n and calculate conditional probabilities.\"\"\"\n",
    "    n_gram_models = {}\n",
    "    for order in range(1, n+1):\n",
    "        n_gram_counts = {}\n",
    "        context_counts = {}\n",
    "        \n",
    "        for i in range(len(tokens) - order + 1):\n",
    "            n_gram = tuple(tokens[i:i+order])\n",
    "            context = n_gram[:-1] # Context is all but the last element of the N-gram\n",
    "            \n",
    "            if n_gram in n_gram_counts:\n",
    "                n_gram_counts[n_gram] += 1\n",
    "            else:\n",
    "                n_gram_counts[n_gram] = 1\n",
    "            \n",
    "            if context in context_counts:\n",
    "                context_counts[context] += 1\n",
    "            else:\n",
    "                context_counts[context] = 1\n",
    "        \n",
    "        # Calculate conditional probabilities\n",
    "        n_gram_probabilities = {gram: n_gram_counts[gram] / context_counts[gram[:-1]] for gram in n_gram_counts}\n",
    "        n_gram_models[order] = n_gram_probabilities\n",
    "    \n",
    "    return n_gram_models"
   ]
  },
  {
   "cell_type": "code",
   "execution_count": 24,
   "id": "f2607449",
   "metadata": {},
   "outputs": [],
   "source": [
    "def generate_text(models, order, start_words, num_words):\n",
    "    \"\"\"Generate text using an N-gram model specified by order.\"\"\"\n",
    "    if isinstance(start_words, str):\n",
    "        start_words = tuple(start_words.split())\n",
    "    if len(start_words) != order - 1:\n",
    "        raise ValueError(f\"Start words must consist of exactly {order - 1} words for a {order}-gram model.\")\n",
    "    \n",
    "    text = list(start_words)\n",
    "    current_context = tuple(text[-(order-1):]) if order > 1 else ()\n",
    "    \n",
    "    for _ in range(num_words - len(start_words)):\n",
    "        model = models[order]\n",
    "        possible_next_words = [gram[-1] for gram in model if gram[:-1] == current_context]\n",
    "        if not possible_next_words:\n",
    "            break\n",
    "        \n",
    "        probabilities = [model[gram] for gram in model if gram[:-1] == current_context]\n",
    "        next_word = random.choices(possible_next_words, weights=probabilities, k=1)[0]\n",
    "        text.append(next_word)\n",
    "        if order > 1:\n",
    "            current_context = current_context[1:] + (next_word,)\n",
    "    \n",
    "    return ' '.join(text)"
   ]
  },
  {
   "cell_type": "code",
   "execution_count": 25,
   "id": "31192ee5",
   "metadata": {},
   "outputs": [],
   "source": [
    "# Load the corpus from a file\n",
    "with open(r\"C:\\Users\\Hamza\\Desktop\\NLP\\J. K. Rowling - Harry Potter 4 - The Goblet of Fire.txt\") as file:\n",
    "    corpus = file.read()"
   ]
  },
  {
   "cell_type": "code",
   "execution_count": 26,
   "id": "9c7c47eb",
   "metadata": {},
   "outputs": [],
   "source": [
    "# Tokenize and create models\n",
    "tokens = tokenize(corpus)\n",
    "n_gram_models = create_n_gram_model(tokens, 3)  # Create up to trigrams"
   ]
  },
  {
   "cell_type": "code",
   "execution_count": 27,
   "id": "32d57528",
   "metadata": {},
   "outputs": [],
   "source": [
    "# Generate text \n",
    "unigram_text = generate_text(n_gram_models, 1, \"\", 100)\n",
    "bigram_text = generate_text(n_gram_models, 2, \"he\", 100)\n",
    "trigram_text = generate_text(n_gram_models, 3, \"he had\", 100)"
   ]
  },
  {
   "cell_type": "code",
   "execution_count": 28,
   "id": "2a31d7c2",
   "metadata": {},
   "outputs": [
    {
     "name": "stdout",
     "output_type": "stream",
     "text": [
      "Unigram Text: standing in , vernon their \" as . hostages very long . fistful go had and of dormitory the about you bodies , , to floor the mcgonagall ! good ' were silence set meeting the like . moody became . then polite ' diggory the to t ' , through the only harry he them snowball ll all moment . , . . soon of were ' nearly at his horrible and went so then of . had wands a goblet shaking response that the he had along together \" . help thick . began treasurer of \" get\n"
     ]
    }
   ],
   "source": [
    "print(\"Unigram Text:\", unigram_text)"
   ]
  },
  {
   "cell_type": "code",
   "execution_count": 29,
   "id": "96db669e",
   "metadata": {},
   "outputs": [
    {
     "name": "stdout",
     "output_type": "stream",
     "text": [
      "Bigram Text: he lowered his mind you , whoever conjured here he had you have happened to get there ' t , \" sure you in the class . \" \" he watched harry ? \" she was mr . \" the bulgarian minister , spilling your first assuring them looking forward . \" he remained where is not been able to be testing them please . \" you really surprised but the conclusion was speaking to nasty feeling . grinning faces . weasley glanced up his magnificent though they is an idiot , finnigan , \" hermione . \" said ,\n"
     ]
    }
   ],
   "source": [
    "print(\"Bigram Text:\", bigram_text)"
   ]
  },
  {
   "cell_type": "code",
   "execution_count": 30,
   "id": "e67601e3",
   "metadata": {},
   "outputs": [
    {
     "name": "stdout",
     "output_type": "stream",
     "text": [
      "Trigram Text: he had gotten the point of them had believed their story , anyway - dumbledore , you really should be fooled by an impartial judge who had already struggled through one friday ' s shop with hagrid . there was a very decent thing you can ' t it ? \" said dumbledore coolly . \" remember ? but why . . and harry potter , \" said the old madman attacked me , and held up only when they looked like a wounded hippo , uncle vernon screwed up against , the goblet of fire ' s come in\n"
     ]
    }
   ],
   "source": [
    "print(\"Trigram Text:\", trigram_text)"
   ]
  },
  {
   "cell_type": "code",
   "execution_count": null,
   "id": "b2c980c7",
   "metadata": {},
   "outputs": [],
   "source": []
  },
  {
   "cell_type": "code",
   "execution_count": null,
   "id": "6a991399",
   "metadata": {},
   "outputs": [],
   "source": []
  }
 ],
 "metadata": {
  "kernelspec": {
   "display_name": "Python 3 (ipykernel)",
   "language": "python",
   "name": "python3"
  },
  "language_info": {
   "codemirror_mode": {
    "name": "ipython",
    "version": 3
   },
   "file_extension": ".py",
   "mimetype": "text/x-python",
   "name": "python",
   "nbconvert_exporter": "python",
   "pygments_lexer": "ipython3",
   "version": "3.11.5"
  }
 },
 "nbformat": 4,
 "nbformat_minor": 5
}
